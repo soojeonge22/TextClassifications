{
  "nbformat": 4,
  "nbformat_minor": 0,
  "metadata": {
    "colab": {
      "name": "NewsClassification.ipynb",
      "provenance": [],
      "authorship_tag": "ABX9TyOWlpYcnMH2v+Uj5XKjbW4q"
    },
    "kernelspec": {
      "name": "python3",
      "display_name": "Python 3"
    },
    "language_info": {
      "name": "python"
    },
    "gpuClass": "standard"
  },
  "cells": [
    {
      "cell_type": "code",
      "execution_count": 13,
      "metadata": {
        "id": "h1KI_F7zfD2U"
      },
      "outputs": [],
      "source": [
        "# check news data \n",
        "\n",
        "import numpy as np\n",
        "import seaborn as sns\n",
        "import matplotlib.pyplot as plt\n",
        "from tensorflow.keras.datasets import reuters  # reuter news data from keras dataset- tokenization, encoding completed): news = 11,258  category = 46\n"
      ]
    },
    {
      "cell_type": "code",
      "source": [
        "# data split(8:2) \n",
        "\n",
        "(X_train, y_train), (X_test, y_test) = reuters.load_data(num_words=None, test_split=0.2)\n",
        "\n",
        "print('news as training data : {}'.format(len(X_train)))\n",
        "print('news as test data : {}'.format(len(X_test)))\n",
        "num_classes = len(set(y_train))\n",
        "print('news_classes : {}'.format(num_classes))"
      ],
      "metadata": {
        "colab": {
          "base_uri": "https://localhost:8080/"
        },
        "id": "FLph0RNPKTv-",
        "outputId": "29a922b4-3491-4aa1-83ed-f2b4b12945c7"
      },
      "execution_count": 2,
      "outputs": [
        {
          "output_type": "stream",
          "name": "stdout",
          "text": [
            "Downloading data from https://storage.googleapis.com/tensorflow/tf-keras-datasets/reuters.npz\n",
            "2113536/2110848 [==============================] - 0s 0us/step\n",
            "2121728/2110848 [==============================] - 0s 0us/step\n",
            "news as training data : 8982\n",
            "news as test data : 2246\n",
            "news_classes : 46\n"
          ]
        }
      ]
    },
    {
      "cell_type": "code",
      "source": [
        "print('first news in traing data :',X_train[0])\n",
        "print('news label of the first news :',y_train[0])"
      ],
      "metadata": {
        "colab": {
          "base_uri": "https://localhost:8080/"
        },
        "id": "RM-GaAjSK4F1",
        "outputId": "9b0ac880-0192-415a-c371-52200cd9f59e"
      },
      "execution_count": 3,
      "outputs": [
        {
          "output_type": "stream",
          "name": "stdout",
          "text": [
            "first news in traing data : [1, 27595, 28842, 8, 43, 10, 447, 5, 25, 207, 270, 5, 3095, 111, 16, 369, 186, 90, 67, 7, 89, 5, 19, 102, 6, 19, 124, 15, 90, 67, 84, 22, 482, 26, 7, 48, 4, 49, 8, 864, 39, 209, 154, 6, 151, 6, 83, 11, 15, 22, 155, 11, 15, 7, 48, 9, 4579, 1005, 504, 6, 258, 6, 272, 11, 15, 22, 134, 44, 11, 15, 16, 8, 197, 1245, 90, 67, 52, 29, 209, 30, 32, 132, 6, 109, 15, 17, 12]\n",
            "news label of the first news : 3\n"
          ]
        }
      ]
    },
    {
      "cell_type": "code",
      "source": [
        "print('the longest length of the news samples :{}'.format(max(len(sample) for sample in X_train)))\n",
        "print('the average length of the news samples :{}'.format(sum(map(len, X_train))/len(X_train)))\n",
        "\n",
        "plt.hist([len(sample) for sample in X_train], bins=50)\n",
        "plt.xlabel('length of samples')\n",
        "plt.ylabel('number of samples')\n",
        "plt.show()"
      ],
      "metadata": {
        "colab": {
          "base_uri": "https://localhost:8080/",
          "height": 315
        },
        "id": "_l8KIer8LSVl",
        "outputId": "35f9a027-864d-4b97-b0a6-2c6925a02cae"
      },
      "execution_count": 4,
      "outputs": [
        {
          "output_type": "stream",
          "name": "stdout",
          "text": [
            "the longest length of the news samples :2376\n",
            "the average length of the news samples :145.5398574927633\n"
          ]
        },
        {
          "output_type": "display_data",
          "data": {
            "text/plain": [
              "<Figure size 432x288 with 1 Axes>"
            ],
            "image/png": "[encoded data removed]"
          },
          "metadata": {
            "needs_background": "light"
          }
        }
      ]
    },
    {
      "cell_type": "code",
      "source": [
        "# distribution of news labels\n",
        "fig, axe = plt.subplots(ncols=1)\n",
        "fig.set_size_inches(12,5)\n",
        "sns.countplot(y_train)"
      ],
      "metadata": {
        "colab": {
          "base_uri": "https://localhost:8080/",
          "height": 394
        },
        "id": "SRscdJ7MLqVE",
        "outputId": "600e3584-03ed-4e04-8c22-a4c9511877cf"
      },
      "execution_count": 5,
      "outputs": [
        {
          "output_type": "stream",
          "name": "stderr",
          "text": [
            "/usr/local/lib/python3.7/dist-packages/seaborn/_decorators.py:43: FutureWarning: Pass the following variable as a keyword arg: x. From version 0.12, the only valid positional argument will be `data`, and passing other arguments without an explicit keyword will result in an error or misinterpretation.\n",
            "  FutureWarning\n"
          ]
        },
        {
          "output_type": "execute_result",
          "data": {
            "text/plain": [
              "<matplotlib.axes._subplots.AxesSubplot at 0x7f7964099e50>"
            ]
          },
          "metadata": {},
          "execution_count": 5
        },
        {
          "output_type": "display_data",
          "data": {
            "text/plain": [
              "<Figure size 864x360 with 1 Axes>"
            ],
            "image/png": "[encoded data removed]"
          },
          "metadata": {
            "needs_background": "light"
          }
        }
      ]
    },
    {
      "cell_type": "code",
      "source": [
        "unique_elements, counts_elements = np.unique(y_train, return_counts=True)\n",
        "print(\"frequency of each label:\")\n",
        "print(np.asarray((unique_elements, counts_elements)))"
      ],
      "metadata": {
        "colab": {
          "base_uri": "https://localhost:8080/"
        },
        "id": "PKF4lEn7L0DS",
        "outputId": "1058c37d-339c-4497-e6ad-26a75e7da25a"
      },
      "execution_count": 6,
      "outputs": [
        {
          "output_type": "stream",
          "name": "stdout",
          "text": [
            "frequency of each label:\n",
            "[[   0    1    2    3    4    5    6    7    8    9   10   11   12   13\n",
            "    14   15   16   17   18   19   20   21   22   23   24   25   26   27\n",
            "    28   29   30   31   32   33   34   35   36   37   38   39   40   41\n",
            "    42   43   44   45]\n",
            " [  55  432   74 3159 1949   17   48   16  139  101  124  390   49  172\n",
            "    26   20  444   39   66  549  269  100   15   41   62   92   24   15\n",
            "    48   19   45   39   32   11   50   10   49   19   19   24   36   30\n",
            "    13   21   12   18]]\n"
          ]
        }
      ]
    },
    {
      "cell_type": "code",
      "source": [
        "# word index\n",
        "word_to_index = reuters.get_word_index()\n",
        "#print(word_to_index)"
      ],
      "metadata": {
        "colab": {
          "base_uri": "https://localhost:8080/"
        },
        "id": "dmTsV5FmMJDk",
        "outputId": "47e1d6cf-abf6-4ef4-c41b-29a4e3e3c4eb"
      },
      "execution_count": 8,
      "outputs": [
        {
          "output_type": "stream",
          "name": "stdout",
          "text": [
            "Downloading data from https://storage.googleapis.com/tensorflow/tf-keras-datasets/reuters_word_index.json\n",
            "557056/550378 [==============================] - 0s 0us/step\n",
            "565248/550378 [==============================] - 0s 0us/step\n"
          ]
        }
      ]
    },
    {
      "cell_type": "code",
      "source": [
        "index_to_word = {}\n",
        "for key, value in word_to_index.items():\n",
        "    index_to_word[value+3] = key  # index to word +3 (0: padding, 1: sos, 2: OOV)\n",
        "\n",
        "print('first word in the freq list  : {}'.format(index_to_word[4]))\n",
        "print('128th word in the freq list  : {}'.format(index_to_word[131]))"
      ],
      "metadata": {
        "colab": {
          "base_uri": "https://localhost:8080/"
        },
        "id": "j9hUGMg2MKCS",
        "outputId": "68b8908e-01d2-42fa-a54f-a5081e2adbd7"
      },
      "execution_count": 10,
      "outputs": [
        {
          "output_type": "stream",
          "name": "stdout",
          "text": [
            "first word in the freq list  : the\n",
            "128th word in the freq list  : tax\n"
          ]
        }
      ]
    },
    {
      "cell_type": "code",
      "source": [
        "# include 3 tokens (pad, sos, unk) into index_to_word (following Keras rules for reuter news dataset)\n",
        "for index, token in enumerate((\"<pad>\", \"<sos>\", \"<unk>\")):\n",
        "  index_to_word[index] = token\n",
        "\n",
        "print(' '.join([index_to_word[index] for index in X_train[0]]))  "
      ],
      "metadata": {
        "colab": {
          "base_uri": "https://localhost:8080/"
        },
        "id": "YbjdLzLTMrDr",
        "outputId": "d21f495d-c748-4dcf-f266-0ac1d42d22e4"
      },
      "execution_count": 11,
      "outputs": [
        {
          "output_type": "stream",
          "name": "stdout",
          "text": [
            "<sos> mcgrath rentcorp said as a result of its december acquisition of space co it expects earnings per share in 1987 of 1 15 to 1 30 dlrs per share up from 70 cts in 1986 the company said pretax net should rise to nine to 10 mln dlrs from six mln dlrs in 1986 and rental operation revenues to 19 to 22 mln dlrs from 12 5 mln dlrs it said cash flow per share this year should be 2 50 to three dlrs reuter 3\n"
          ]
        }
      ]
    },
    {
      "cell_type": "code",
      "source": [
        "# news classification using LSTM\n",
        "\n",
        "from tensorflow.keras.models import Sequential\n",
        "from tensorflow.keras.layers import Dense, LSTM, Embedding\n",
        "from tensorflow.keras.preprocessing.sequence import pad_sequences\n",
        "from tensorflow.keras.utils import to_categorical\n",
        "from tensorflow.keras.callbacks import EarlyStopping, ModelCheckpoint\n",
        "from tensorflow.keras.models import load_model\n",
        "\n",
        "vocab_size = 1000\n",
        "max_len = 100\n",
        "\n",
        "(X_train, y_train), (X_test, y_test) = reuters.load_data(num_words=vocab_size, test_split=0.2)\n",
        "\n",
        "X_train = pad_sequences(X_train, maxlen=max_len)\n",
        "X_test = pad_sequences(X_test, maxlen=max_len)\n",
        "\n",
        "y_train = to_categorical(y_train)\n",
        "y_test = to_categorical(y_test)"
      ],
      "metadata": {
        "id": "03LpRRTLN46p"
      },
      "execution_count": 14,
      "outputs": []
    },
    {
      "cell_type": "code",
      "source": [
        "embedding_dim = 128\n",
        "hidden_units = 128\n",
        "num_classes = 46\n",
        "\n",
        "model = Sequential()\n",
        "model.add(Embedding(vocab_size, embedding_dim))\n",
        "model.add(LSTM(hidden_units))\n",
        "model.add(Dense(num_classes, activation='softmax'))   # multi-class classification \n",
        "\n",
        "es = EarlyStopping(monitor='val_loss', mode='min', verbose=1, patience=4)  # val_loss increases 4 times continuously, stop training to avoid overfitting\n",
        "mc = ModelCheckpoint('best_model.h5', monitor='val_acc', mode='max', verbose=1, save_best_only=True) # store the model only val_acc is better than before\n",
        "\n",
        "model.compile(loss='categorical_crossentropy', optimizer='adam', metrics=['acc'])\n",
        "history = model.fit(X_train, y_train, batch_size=128, epochs=30, callbacks=[es, mc], validation_data=(X_test, y_test))"
      ],
      "metadata": {
        "colab": {
          "base_uri": "https://localhost:8080/"
        },
        "id": "JfHQkB6OOc2e",
        "outputId": "b4157de1-c511-4ac3-cf64-5929d2e0b0e3"
      },
      "execution_count": 15,
      "outputs": [
        {
          "output_type": "stream",
          "name": "stdout",
          "text": [
            "Epoch 1/30\n",
            "71/71 [==============================] - ETA: 0s - loss: 2.6050 - acc: 0.3477\n",
            "Epoch 1: val_acc improved from -inf to 0.36198, saving model to best_model.h5\n",
            "71/71 [==============================] - 32s 416ms/step - loss: 2.6050 - acc: 0.3477 - val_loss: 2.4100 - val_acc: 0.3620\n",
            "Epoch 2/30\n",
            "71/71 [==============================] - ETA: 0s - loss: 2.2738 - acc: 0.4104\n",
            "Epoch 2: val_acc improved from 0.36198 to 0.49777, saving model to best_model.h5\n",
            "71/71 [==============================] - 29s 402ms/step - loss: 2.2738 - acc: 0.4104 - val_loss: 2.0577 - val_acc: 0.4978\n",
            "Epoch 3/30\n",
            "71/71 [==============================] - ETA: 0s - loss: 2.0318 - acc: 0.4982\n",
            "Epoch 3: val_acc improved from 0.49777 to 0.50178, saving model to best_model.h5\n",
            "71/71 [==============================] - 28s 400ms/step - loss: 2.0318 - acc: 0.4982 - val_loss: 1.9866 - val_acc: 0.5018\n",
            "Epoch 4/30\n",
            "71/71 [==============================] - ETA: 0s - loss: 1.8800 - acc: 0.5396\n",
            "Epoch 4: val_acc improved from 0.50178 to 0.51158, saving model to best_model.h5\n",
            "71/71 [==============================] - 28s 398ms/step - loss: 1.8800 - acc: 0.5396 - val_loss: 1.8788 - val_acc: 0.5116\n",
            "Epoch 5/30\n",
            "71/71 [==============================] - ETA: 0s - loss: 1.6650 - acc: 0.5809\n",
            "Epoch 5: val_acc improved from 0.51158 to 0.59172, saving model to best_model.h5\n",
            "71/71 [==============================] - 29s 403ms/step - loss: 1.6650 - acc: 0.5809 - val_loss: 1.6603 - val_acc: 0.5917\n",
            "Epoch 6/30\n",
            "71/71 [==============================] - ETA: 0s - loss: 1.5589 - acc: 0.6067\n",
            "Epoch 6: val_acc did not improve from 0.59172\n",
            "71/71 [==============================] - 29s 403ms/step - loss: 1.5589 - acc: 0.6067 - val_loss: 1.6909 - val_acc: 0.5779\n",
            "Epoch 7/30\n",
            "71/71 [==============================] - ETA: 0s - loss: 1.4931 - acc: 0.6190\n",
            "Epoch 7: val_acc improved from 0.59172 to 0.61932, saving model to best_model.h5\n",
            "71/71 [==============================] - 28s 401ms/step - loss: 1.4931 - acc: 0.6190 - val_loss: 1.5097 - val_acc: 0.6193\n",
            "Epoch 8/30\n",
            "71/71 [==============================] - ETA: 0s - loss: 1.4021 - acc: 0.6391\n",
            "Epoch 8: val_acc improved from 0.61932 to 0.63179, saving model to best_model.h5\n",
            "71/71 [==============================] - 29s 409ms/step - loss: 1.4021 - acc: 0.6391 - val_loss: 1.4840 - val_acc: 0.6318\n",
            "Epoch 9/30\n",
            "71/71 [==============================] - ETA: 0s - loss: 1.3356 - acc: 0.6600\n",
            "Epoch 9: val_acc improved from 0.63179 to 0.64292, saving model to best_model.h5\n",
            "71/71 [==============================] - 29s 407ms/step - loss: 1.3356 - acc: 0.6600 - val_loss: 1.4306 - val_acc: 0.6429\n",
            "Epoch 10/30\n",
            "71/71 [==============================] - ETA: 0s - loss: 1.2607 - acc: 0.6818\n",
            "Epoch 10: val_acc improved from 0.64292 to 0.65628, saving model to best_model.h5\n",
            "71/71 [==============================] - 30s 426ms/step - loss: 1.2607 - acc: 0.6818 - val_loss: 1.3620 - val_acc: 0.6563\n",
            "Epoch 11/30\n",
            "71/71 [==============================] - ETA: 0s - loss: 1.1882 - acc: 0.6996\n",
            "Epoch 11: val_acc improved from 0.65628 to 0.66429, saving model to best_model.h5\n",
            "71/71 [==============================] - 29s 406ms/step - loss: 1.1882 - acc: 0.6996 - val_loss: 1.3178 - val_acc: 0.6643\n",
            "Epoch 12/30\n",
            "71/71 [==============================] - ETA: 0s - loss: 1.1333 - acc: 0.7096\n",
            "Epoch 12: val_acc improved from 0.66429 to 0.67275, saving model to best_model.h5\n",
            "71/71 [==============================] - 29s 409ms/step - loss: 1.1333 - acc: 0.7096 - val_loss: 1.2728 - val_acc: 0.6728\n",
            "Epoch 13/30\n",
            "71/71 [==============================] - ETA: 0s - loss: 1.0845 - acc: 0.7241\n",
            "Epoch 13: val_acc improved from 0.67275 to 0.67409, saving model to best_model.h5\n",
            "71/71 [==============================] - 29s 404ms/step - loss: 1.0845 - acc: 0.7241 - val_loss: 1.2742 - val_acc: 0.6741\n",
            "Epoch 14/30\n",
            "71/71 [==============================] - ETA: 0s - loss: 1.0278 - acc: 0.7367\n",
            "Epoch 14: val_acc improved from 0.67409 to 0.68210, saving model to best_model.h5\n",
            "71/71 [==============================] - 29s 405ms/step - loss: 1.0278 - acc: 0.7367 - val_loss: 1.2772 - val_acc: 0.6821\n",
            "Epoch 15/30\n",
            "71/71 [==============================] - ETA: 0s - loss: 1.0047 - acc: 0.7467\n",
            "Epoch 15: val_acc improved from 0.68210 to 0.68833, saving model to best_model.h5\n",
            "71/71 [==============================] - 29s 405ms/step - loss: 1.0047 - acc: 0.7467 - val_loss: 1.2145 - val_acc: 0.6883\n",
            "Epoch 16/30\n",
            "71/71 [==============================] - ETA: 0s - loss: 0.9430 - acc: 0.7645\n",
            "Epoch 16: val_acc improved from 0.68833 to 0.70659, saving model to best_model.h5\n",
            "71/71 [==============================] - 29s 415ms/step - loss: 0.9430 - acc: 0.7645 - val_loss: 1.2053 - val_acc: 0.7066\n",
            "Epoch 17/30\n",
            "71/71 [==============================] - ETA: 0s - loss: 0.8932 - acc: 0.7758\n",
            "Epoch 17: val_acc improved from 0.70659 to 0.70971, saving model to best_model.h5\n",
            "71/71 [==============================] - 29s 402ms/step - loss: 0.8932 - acc: 0.7758 - val_loss: 1.1730 - val_acc: 0.7097\n",
            "Epoch 18/30\n",
            "71/71 [==============================] - ETA: 0s - loss: 0.8381 - acc: 0.7898\n",
            "Epoch 18: val_acc improved from 0.70971 to 0.71282, saving model to best_model.h5\n",
            "71/71 [==============================] - 29s 407ms/step - loss: 0.8381 - acc: 0.7898 - val_loss: 1.1596 - val_acc: 0.7128\n",
            "Epoch 19/30\n",
            "71/71 [==============================] - ETA: 0s - loss: 0.7945 - acc: 0.8033\n",
            "Epoch 19: val_acc improved from 0.71282 to 0.71772, saving model to best_model.h5\n",
            "71/71 [==============================] - 28s 401ms/step - loss: 0.7945 - acc: 0.8033 - val_loss: 1.1820 - val_acc: 0.7177\n",
            "Epoch 20/30\n",
            "71/71 [==============================] - ETA: 0s - loss: 0.7550 - acc: 0.8090\n",
            "Epoch 20: val_acc did not improve from 0.71772\n",
            "71/71 [==============================] - 29s 406ms/step - loss: 0.7550 - acc: 0.8090 - val_loss: 1.1956 - val_acc: 0.7079\n",
            "Epoch 21/30\n",
            "71/71 [==============================] - ETA: 0s - loss: 0.7260 - acc: 0.8190\n",
            "Epoch 21: val_acc did not improve from 0.71772\n",
            "71/71 [==============================] - 29s 408ms/step - loss: 0.7260 - acc: 0.8190 - val_loss: 1.2083 - val_acc: 0.6999\n",
            "Epoch 22/30\n",
            "71/71 [==============================] - ETA: 0s - loss: 0.6871 - acc: 0.8294\n",
            "Epoch 22: val_acc improved from 0.71772 to 0.71817, saving model to best_model.h5\n",
            "71/71 [==============================] - 29s 411ms/step - loss: 0.6871 - acc: 0.8294 - val_loss: 1.1730 - val_acc: 0.7182\n",
            "Epoch 22: early stopping\n"
          ]
        }
      ]
    },
    {
      "cell_type": "code",
      "source": [
        "loaded_model = load_model('best_model.h5')\n",
        "print(\"\\n test accuracy: %.4f\" % (loaded_model.evaluate(X_test, y_test)[1]))"
      ],
      "metadata": {
        "colab": {
          "base_uri": "https://localhost:8080/"
        },
        "id": "YvfY3qtXR-UX",
        "outputId": "86b64bf8-c449-400b-a296-cdf2b465748e"
      },
      "execution_count": 16,
      "outputs": [
        {
          "output_type": "stream",
          "name": "stdout",
          "text": [
            "71/71 [==============================] - 3s 35ms/step - loss: 1.1730 - acc: 0.7182\n",
            "\n",
            " test accuracy: 0.7182\n"
          ]
        }
      ]
    },
    {
      "cell_type": "code",
      "source": [
        "epochs = range(1, len(history.history['acc']) + 1)\n",
        "plt.plot(epochs, history.history['loss'])\n",
        "plt.plot(epochs, history.history['val_loss'])\n",
        "plt.title('model loss')\n",
        "plt.ylabel('loss')\n",
        "plt.xlabel('epoch')\n",
        "plt.legend(['train', 'test'], loc='upper left')\n",
        "plt.show()"
      ],
      "metadata": {
        "colab": {
          "base_uri": "https://localhost:8080/",
          "height": 295
        },
        "id": "szS98OnDSRiF",
        "outputId": "447b3cf6-52eb-4843-90e6-7175247510ac"
      },
      "execution_count": 17,
      "outputs": [
        {
          "output_type": "display_data",
          "data": {
            "text/plain": [
              "<Figure size 432x288 with 1 Axes>"
            ],
            "image/png": "[encoded data removed]"
          },
          "metadata": {
            "needs_background": "light"
          }
        }
      ]
    }
  ]
}